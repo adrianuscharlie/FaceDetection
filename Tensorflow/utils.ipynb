{
 "cells": [
  {
   "cell_type": "code",
   "execution_count": 1,
   "metadata": {},
   "outputs": [],
   "source": [
    "import os"
   ]
  },
  {
   "attachments": {},
   "cell_type": "markdown",
   "metadata": {},
   "source": [
    "### Check the base path of the working directory"
   ]
  },
  {
   "cell_type": "code",
   "execution_count": 2,
   "metadata": {},
   "outputs": [
    {
     "data": {
      "text/plain": [
       "'../Data'"
      ]
     },
     "execution_count": 2,
     "metadata": {},
     "output_type": "execute_result"
    }
   ],
   "source": [
    "base_path=os.path.join('../','Data')\n",
    "base_path"
   ]
  },
  {
   "attachments": {},
   "cell_type": "markdown",
   "metadata": {},
   "source": [
    "### Create function to rename the file"
   ]
  },
  {
   "cell_type": "code",
   "execution_count": 3,
   "metadata": {},
   "outputs": [],
   "source": [
    "def renameFile(path:str,class_name):\n",
    "    i=1\n",
    "    for item in os.listdir(path):\n",
    "        old_names=os.path.join(path,item)\n",
    "        new_name=os.path.join(path,f'{class_name}_{i}.jpg')\n",
    "        print(f'Rename from {old_names} to {new_name}')\n",
    "        os.rename(old_names,new_name)\n",
    "        i+=1"
   ]
  },
  {
   "attachments": {},
   "cell_type": "markdown",
   "metadata": {},
   "source": [
    "### Rename the 3 class file into some format"
   ]
  },
  {
   "cell_type": "code",
   "execution_count": null,
   "metadata": {},
   "outputs": [],
   "source": [
    "for classes in os.listdir(base_path):\n",
    "    unknown_path=os.path.join(base_path,classes)\n",
    "    renameFile(unknown_path,class_name=classes)"
   ]
  },
  {
   "attachments": {},
   "cell_type": "markdown",
   "metadata": {},
   "source": [
    "### Copy file into train and test folder"
   ]
  },
  {
   "cell_type": "code",
   "execution_count": 7,
   "metadata": {},
   "outputs": [],
   "source": [
    "import shutil\n",
    "base_path\n",
    "os.makedirs(os.path.join(base_path,'Train'))\n",
    "os.makedirs(os.path.join(base_path,'Test'))"
   ]
  },
  {
   "cell_type": "code",
   "execution_count": 8,
   "metadata": {},
   "outputs": [],
   "source": [
    "def train_test_split(source_path:str,destination_path:str,class_name:str,split_size:float=0.8):\n",
    "    train_dir=os.listdir(source_path)\n",
    "    index=int(len(train_dir)*split_size)\n",
    "    train_data_path=train_dir[:index]\n",
    "    test_data_path=train_dir[index:]\n",
    "    os.makedirs(os.path.join(destination_path,'Train/'+class_name))\n",
    "    os.makedirs(os.path.join(destination_path,'Test/'+class_name))\n",
    "    for item in train_data_path:\n",
    "        shutil.copyfile(os.path.join(source_path,item),os.path.join(destination_path+'/Train/'+class_name,item))\n",
    "    for item in test_data_path:\n",
    "        shutil.copyfile(os.path.join(source_path,item),os.path.join(destination_path+'/Test/'+class_name,item))\n",
    "    print(f'Done split for {class_name} with {len(train_data_path)} train images and {len(test_data_path)} test images')"
   ]
  },
  {
   "attachments": {},
   "cell_type": "markdown",
   "metadata": {},
   "source": [
    "### Split Dyah data into train and test"
   ]
  },
  {
   "cell_type": "code",
   "execution_count": 16,
   "metadata": {},
   "outputs": [
    {
     "name": "stdout",
     "output_type": "stream",
     "text": [
      "Done split for Dyah with 360 train images and 90 test images\n",
      "Done split for Debby with 282 train images and 71 test images\n",
      "Done split for Unknown with 328 train images and 83 test images\n"
     ]
    }
   ],
   "source": [
    "classes=['Dyah','Debby','Unknown']\n",
    "for people in classes:\n",
    "    source_path=os.path.join(base_path,people)\n",
    "    destination_path=base_path\n",
    "    source_path,destination_path\n",
    "    train_test_split(source_path=source_path,destination_path=destination_path,class_name=people,split_size=0.8)"
   ]
  }
 ],
 "metadata": {
  "kernelspec": {
   "display_name": "Python 3",
   "language": "python",
   "name": "python3"
  },
  "language_info": {
   "codemirror_mode": {
    "name": "ipython",
    "version": 3
   },
   "file_extension": ".py",
   "mimetype": "text/x-python",
   "name": "python",
   "nbconvert_exporter": "python",
   "pygments_lexer": "ipython3",
   "version": "3.8.0"
  },
  "orig_nbformat": 4
 },
 "nbformat": 4,
 "nbformat_minor": 2
}
